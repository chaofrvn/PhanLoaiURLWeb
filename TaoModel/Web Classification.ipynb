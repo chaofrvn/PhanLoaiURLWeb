{
 "cells": [
  {
   "cell_type": "markdown",
   "metadata": {},
   "source": [
    "### Import thư viện"
   ]
  },
  {
   "cell_type": "code",
   "execution_count": 1,
   "metadata": {},
   "outputs": [
    {
     "name": "stdout",
     "output_type": "stream",
     "text": [
      "Packages imported...\n"
     ]
    }
   ],
   "source": [
    "import matplotlib.pyplot as plt\n",
    "import pandas as pd\n",
    "import numpy as np\n",
    "\n",
    "import joblib\n",
    "\n",
    "\n",
    "# Scaling\n",
    "from sklearn.preprocessing import StandardScaler \n",
    "from sklearn.preprocessing import RobustScaler \n",
    "from sklearn.preprocessing import MinMaxScaler \n",
    "\n",
    "# Train Test Split\n",
    "from sklearn.model_selection import train_test_split\n",
    "from sklearn.model_selection import KFold, cross_validate, cross_val_score\n",
    "\n",
    "# Feature Selector\n",
    "\n",
    "# Models\n",
    "# import torch\n",
    "# import torch.nn as nn\n",
    "from sklearn.svm import SVC\n",
    "from sklearn.neighbors import KNeighborsClassifier\n",
    "\n",
    "# Metrics\n",
    "from sklearn.metrics import make_scorer\n",
    "from sklearn.metrics import accuracy_score, precision_score, recall_score, confusion_matrix\n",
    "\n",
    "# Keras\n",
    "import tensorflow as tf\n",
    "from tensorflow import keras\n",
    "from keras import layers, models\n",
    "from keras.models import Sequential, Model\n",
    "from keras.layers import Dense, ReLU, Dropout, InputLayer,LeakyReLU\n",
    "\n",
    "# Optimizer\n",
    "from keras.optimizers import Adam\n",
    "\n",
    "# Kfold\n",
    "from sklearn.model_selection import KFold\n",
    "from sklearn.model_selection import cross_val_score\n",
    "\n",
    "print('Packages imported...')"
   ]
  },
  {
   "cell_type": "markdown",
   "metadata": {},
   "source": [
    "### Đọc dữ liệu"
   ]
  },
  {
   "cell_type": "code",
   "execution_count": 2,
   "metadata": {},
   "outputs": [
    {
     "data": {
      "text/html": [
       "<div>\n",
       "<style scoped>\n",
       "    .dataframe tbody tr th:only-of-type {\n",
       "        vertical-align: middle;\n",
       "    }\n",
       "\n",
       "    .dataframe tbody tr th {\n",
       "        vertical-align: top;\n",
       "    }\n",
       "\n",
       "    .dataframe thead th {\n",
       "        text-align: right;\n",
       "    }\n",
       "</style>\n",
       "<table border=\"1\" class=\"dataframe\">\n",
       "  <thead>\n",
       "    <tr style=\"text-align: right;\">\n",
       "      <th></th>\n",
       "      <th>0</th>\n",
       "      <th>1</th>\n",
       "      <th>2</th>\n",
       "      <th>3</th>\n",
       "      <th>4</th>\n",
       "      <th>5</th>\n",
       "      <th>6</th>\n",
       "      <th>7</th>\n",
       "      <th>8</th>\n",
       "      <th>9</th>\n",
       "      <th>...</th>\n",
       "      <th>10844</th>\n",
       "      <th>10845</th>\n",
       "      <th>10846</th>\n",
       "      <th>10847</th>\n",
       "      <th>10848</th>\n",
       "      <th>10849</th>\n",
       "      <th>10850</th>\n",
       "      <th>10851</th>\n",
       "      <th>10852</th>\n",
       "      <th>10853</th>\n",
       "    </tr>\n",
       "  </thead>\n",
       "  <tbody>\n",
       "    <tr>\n",
       "      <th>0</th>\n",
       "      <td>7.0</td>\n",
       "      <td>5.0</td>\n",
       "      <td>4.0</td>\n",
       "      <td>4.0</td>\n",
       "      <td>3.0</td>\n",
       "      <td>3.0</td>\n",
       "      <td>3.0</td>\n",
       "      <td>2.0</td>\n",
       "      <td>1.0</td>\n",
       "      <td>3.0</td>\n",
       "      <td>...</td>\n",
       "      <td>0.0</td>\n",
       "      <td>0.0</td>\n",
       "      <td>0.0</td>\n",
       "      <td>0.0</td>\n",
       "      <td>0.0</td>\n",
       "      <td>0.0</td>\n",
       "      <td>0.0</td>\n",
       "      <td>0.0</td>\n",
       "      <td>0.0</td>\n",
       "      <td>1.0</td>\n",
       "    </tr>\n",
       "    <tr>\n",
       "      <th>1</th>\n",
       "      <td>1.0</td>\n",
       "      <td>2.0</td>\n",
       "      <td>0.0</td>\n",
       "      <td>0.0</td>\n",
       "      <td>0.0</td>\n",
       "      <td>0.0</td>\n",
       "      <td>0.0</td>\n",
       "      <td>0.0</td>\n",
       "      <td>0.0</td>\n",
       "      <td>0.0</td>\n",
       "      <td>...</td>\n",
       "      <td>0.0</td>\n",
       "      <td>0.0</td>\n",
       "      <td>0.0</td>\n",
       "      <td>0.0</td>\n",
       "      <td>0.0</td>\n",
       "      <td>0.0</td>\n",
       "      <td>0.0</td>\n",
       "      <td>0.0</td>\n",
       "      <td>0.0</td>\n",
       "      <td>1.0</td>\n",
       "    </tr>\n",
       "    <tr>\n",
       "      <th>2</th>\n",
       "      <td>0.0</td>\n",
       "      <td>0.0</td>\n",
       "      <td>0.0</td>\n",
       "      <td>0.0</td>\n",
       "      <td>0.0</td>\n",
       "      <td>0.0</td>\n",
       "      <td>0.0</td>\n",
       "      <td>0.0</td>\n",
       "      <td>0.0</td>\n",
       "      <td>3.0</td>\n",
       "      <td>...</td>\n",
       "      <td>0.0</td>\n",
       "      <td>0.0</td>\n",
       "      <td>0.0</td>\n",
       "      <td>0.0</td>\n",
       "      <td>0.0</td>\n",
       "      <td>0.0</td>\n",
       "      <td>0.0</td>\n",
       "      <td>0.0</td>\n",
       "      <td>0.0</td>\n",
       "      <td>1.0</td>\n",
       "    </tr>\n",
       "    <tr>\n",
       "      <th>3</th>\n",
       "      <td>4.0</td>\n",
       "      <td>2.0</td>\n",
       "      <td>1.0</td>\n",
       "      <td>0.0</td>\n",
       "      <td>0.0</td>\n",
       "      <td>0.0</td>\n",
       "      <td>1.0</td>\n",
       "      <td>0.0</td>\n",
       "      <td>0.0</td>\n",
       "      <td>0.0</td>\n",
       "      <td>...</td>\n",
       "      <td>0.0</td>\n",
       "      <td>0.0</td>\n",
       "      <td>0.0</td>\n",
       "      <td>0.0</td>\n",
       "      <td>0.0</td>\n",
       "      <td>0.0</td>\n",
       "      <td>0.0</td>\n",
       "      <td>0.0</td>\n",
       "      <td>0.0</td>\n",
       "      <td>1.0</td>\n",
       "    </tr>\n",
       "    <tr>\n",
       "      <th>4</th>\n",
       "      <td>0.0</td>\n",
       "      <td>0.0</td>\n",
       "      <td>5.0</td>\n",
       "      <td>0.0</td>\n",
       "      <td>0.0</td>\n",
       "      <td>0.0</td>\n",
       "      <td>0.0</td>\n",
       "      <td>0.0</td>\n",
       "      <td>0.0</td>\n",
       "      <td>0.0</td>\n",
       "      <td>...</td>\n",
       "      <td>0.0</td>\n",
       "      <td>0.0</td>\n",
       "      <td>0.0</td>\n",
       "      <td>0.0</td>\n",
       "      <td>0.0</td>\n",
       "      <td>0.0</td>\n",
       "      <td>0.0</td>\n",
       "      <td>0.0</td>\n",
       "      <td>0.0</td>\n",
       "      <td>1.0</td>\n",
       "    </tr>\n",
       "  </tbody>\n",
       "</table>\n",
       "<p>5 rows × 10854 columns</p>\n",
       "</div>"
      ],
      "text/plain": [
       "     0    1    2    3    4    5    6    7    8    9  ...  10844  10845  10846  \\\n",
       "0  7.0  5.0  4.0  4.0  3.0  3.0  3.0  2.0  1.0  3.0  ...    0.0    0.0    0.0   \n",
       "1  1.0  2.0  0.0  0.0  0.0  0.0  0.0  0.0  0.0  0.0  ...    0.0    0.0    0.0   \n",
       "2  0.0  0.0  0.0  0.0  0.0  0.0  0.0  0.0  0.0  3.0  ...    0.0    0.0    0.0   \n",
       "3  4.0  2.0  1.0  0.0  0.0  0.0  1.0  0.0  0.0  0.0  ...    0.0    0.0    0.0   \n",
       "4  0.0  0.0  5.0  0.0  0.0  0.0  0.0  0.0  0.0  0.0  ...    0.0    0.0    0.0   \n",
       "\n",
       "   10847  10848  10849  10850  10851  10852  10853  \n",
       "0    0.0    0.0    0.0    0.0    0.0    0.0    1.0  \n",
       "1    0.0    0.0    0.0    0.0    0.0    0.0    1.0  \n",
       "2    0.0    0.0    0.0    0.0    0.0    0.0    1.0  \n",
       "3    0.0    0.0    0.0    0.0    0.0    0.0    1.0  \n",
       "4    0.0    0.0    0.0    0.0    0.0    0.0    1.0  \n",
       "\n",
       "[5 rows x 10854 columns]"
      ]
     },
     "execution_count": 2,
     "metadata": {},
     "output_type": "execute_result"
    }
   ],
   "source": [
    "df = pd.read_csv('DataFinal.csv')\n",
    "df.head()"
   ]
  },
  {
   "cell_type": "markdown",
   "metadata": {},
   "source": [
    "### Tạo dữ liệu train, test"
   ]
  },
  {
   "cell_type": "code",
   "execution_count": 3,
   "metadata": {},
   "outputs": [],
   "source": [
    "X = df.drop('10853', axis=1)\n",
    "y_cat = tf.keras.utils.to_categorical(df['10853'])\n",
    "y = df['10853']"
   ]
  },
  {
   "cell_type": "code",
   "execution_count": 4,
   "metadata": {},
   "outputs": [],
   "source": [
    "X_train, X_test, y_train, y_test = train_test_split(X.values, y, test_size=0.3, random_state=1)\n",
    "y_train_nn = tf.keras.utils.to_categorical(y_train)\n",
    "y_test_nn = tf.keras.utils.to_categorical(y_test)"
   ]
  },
  {
   "cell_type": "code",
   "execution_count": 5,
   "metadata": {},
   "outputs": [
    {
     "data": {
      "text/plain": [
       "(8247, 10853)"
      ]
     },
     "execution_count": 5,
     "metadata": {},
     "output_type": "execute_result"
    }
   ],
   "source": [
    "X_train.shape"
   ]
  },
  {
   "cell_type": "markdown",
   "metadata": {},
   "source": [
    "### Trích chọn đặc trưng"
   ]
  },
  {
   "cell_type": "markdown",
   "metadata": {},
   "source": [
    "#### PCA"
   ]
  },
  {
   "cell_type": "code",
   "execution_count": 6,
   "metadata": {},
   "outputs": [],
   "source": [
    "from sklearn.decomposition import PCA\n",
    "\n",
    "def pca_feature_selection(X_train, X_test, n):\n",
    "    pca = PCA(n_components=n)\n",
    "    X_train_new = pca.fit_transform(X_train)\n",
    "    X_test_new = pca.transform(X_test)\n",
    "    return {\"X_train\": X_train_new, \"X_test\": X_test_new}"
   ]
  },
  {
   "cell_type": "code",
   "execution_count": 7,
   "metadata": {},
   "outputs": [],
   "source": [
    "# PCA_data = {}\n",
    "# PCA_data[2500] = pca_feature_selection(X_train, X_test, 2500)\n",
    "# PCA_data[5000] = pca_feature_selection(X_train, X_test, 5000)\n",
    "# PCA_data[7500] = pca_feature_selection(X_train, X_test, 7500)"
   ]
  },
  {
   "cell_type": "markdown",
   "metadata": {},
   "source": [
    "#### Mutual Information"
   ]
  },
  {
   "cell_type": "code",
   "execution_count": 8,
   "metadata": {},
   "outputs": [],
   "source": [
    "from sklearn.feature_selection import SelectKBest, mutual_info_classif\n",
    "\n",
    "def mi_feature_selection(X_train, X_test, n):\n",
    "    selector = SelectKBest(mutual_info_classif, k=n)\n",
    "    X_train_new = selector.fit_transform(X_train, y_train)\n",
    "    X_test_new = selector.transform(X_test)\n",
    "\n",
    "    # Lưu các features được chọn vào một file\n",
    "\n",
    "    return {\"X_train\": X_train_new, \"X_test\": X_test_new}"
   ]
  },
  {
   "cell_type": "code",
   "execution_count": 9,
   "metadata": {},
   "outputs": [],
   "source": [
    "MI_data = {}\n",
    "MI_data[2500] = mi_feature_selection(X_train, X_test, 2500)\n",
    "MI_data[5000] = mi_feature_selection(X_train, X_test, 5000)\n",
    "MI_data[7500] = mi_feature_selection(X_train, X_test, 7500)"
   ]
  },
  {
   "cell_type": "markdown",
   "metadata": {},
   "source": [
    "##### Chi-square"
   ]
  },
  {
   "cell_type": "code",
   "execution_count": 10,
   "metadata": {},
   "outputs": [],
   "source": [
    "from sklearn.feature_selection import SelectKBest, chi2\n",
    "\n",
    "def chi2_feature_selection(X_train, X_test, n):\n",
    "    selector = SelectKBest(chi2, k=n)\n",
    "    X_train_new = selector.fit_transform(X_train, y_train)\n",
    "    X_test_new = selector.transform(X_test)\n",
    "    return {\"X_train\": X_train_new, \"X_test\": X_test_new}"
   ]
  },
  {
   "cell_type": "code",
   "execution_count": 11,
   "metadata": {},
   "outputs": [],
   "source": [
    "CHI2_data = {}\n",
    "CHI2_data[2500] = chi2_feature_selection(X_train, X_test, 2500)\n",
    "CHI2_data[5000] = chi2_feature_selection(X_train, X_test, 5000)\n",
    "CHI2_data[7500] = chi2_feature_selection(X_train, X_test, 7500)"
   ]
  },
  {
   "cell_type": "markdown",
   "metadata": {},
   "source": [
    "#### ANOVA f-value"
   ]
  },
  {
   "cell_type": "code",
   "execution_count": 12,
   "metadata": {},
   "outputs": [],
   "source": [
    "from sklearn.feature_selection import SelectKBest, f_classif\n",
    "\n",
    "def anova_f_feature_selection(X_train, X_test, n):\n",
    "    selector = SelectKBest(f_classif, k=n)\n",
    "    X_train_new = selector.fit_transform(X_train, y_train)\n",
    "    X_test_new = selector.transform(X_test)\n",
    "    return {\"X_train\": X_train_new, \"X_test\": X_test_new}"
   ]
  },
  {
   "cell_type": "code",
   "execution_count": 13,
   "metadata": {},
   "outputs": [
    {
     "name": "stderr",
     "output_type": "stream",
     "text": [
      "c:\\Users\\Dell\\AppData\\Local\\Programs\\Python\\Python39\\lib\\site-packages\\sklearn\\feature_selection\\_univariate_selection.py:112: UserWarning: Features [ 1395  1652  2159  2179  2331  2383  2436  2544  3373  3419  3456  3497\n",
      "  3498  3514  3601  3602  3613  3756  3858  3870  3886  4075  4113  4114\n",
      "  4124  4176  4188  4340  4485  4590  4684  4802  4973  5024  5074  5130\n",
      "  5258  5293  5294  5309  5313  5319  5335  5337  5340  5341  5345  5359\n",
      "  5367  5373  5383  5404  5411  5421  5424  5440  5474  5497  5555  5556\n",
      "  5574  5579  5596  5623  5624  5631  5635  5637  5644  5667  5674  5682\n",
      "  5691  5696  5720  5735  5753  5784  5793  5795  5809  5810  5814  5818\n",
      "  5819  5820  5823  5835  5846  5875  5903  5915  5929  5931  5946  5955\n",
      "  5985  6027  6044  6051  6061  6088  6098  6109  6110  6114  6127  6134\n",
      "  6144  6159  6179  6193  6203  6212  6217  6220  6248  6253  6257  6291\n",
      "  6299  6300  6303  6372  6381  6383  6417  6423  6424  6432  6447  6462\n",
      "  6485  6486  6497  6502  6505  6507  6555  6566  6568  6575  6577  6580\n",
      "  6585  6586  6618  6630  6645  6669  6671  6673  6686  6688  6699  6708\n",
      "  6716  6726  6730  6742  6749  6750  6753  6756  6761  6769  6882  6885\n",
      "  6920  6939  6946  6947  7025  7034  7036  7037  7051  7081  7086  7094\n",
      "  7101  7107  7139  7159  7161  7173  7174  7187  7201  7211  7224  7297\n",
      "  7300  7306  7307  7379  7409  7415  7435  7461  7475  7489  7499  7520\n",
      "  7523  7541  7558  7562  7569  7578  7614  7617  7631  7635  7649  7661\n",
      "  7662  7668  7689  7698  7699  7704  7705  7711  7712  7713  7733  7739\n",
      "  7756  7759  7887  7891  7939  7975  7993  8085  8111  8184  8193  8259\n",
      "  8297  8301  8304  8313  8314  8343  8373  8394  8420  8421  8469  8471\n",
      "  8485  8504  8528  8539  8540  8552  8558  8564  8567  8574  8579  8581\n",
      "  8593  8606  8614  8649  8654  8655  8670  8681  8689  8696  8715  8720\n",
      "  8747  8767  8768  8776  8788  8799  8802  8812  8821  8829  8830  8833\n",
      "  8835  8868  8876  8883  8892  8894  8897  8898  8899  8905  8906  8908\n",
      "  8914  8917  8930  8932  8954  8997  9016  9077  9084  9087  9091  9097\n",
      "  9124  9134  9149  9153  9160  9161  9182  9197  9199  9209  9210  9233\n",
      "  9252  9270  9290  9294  9296  9301  9304  9307  9309  9311  9312  9313\n",
      "  9325  9336  9343  9344  9346  9354  9367  9368  9373  9374  9375  9387\n",
      "  9399  9406  9422  9431  9437  9443  9451  9460  9466  9501  9520  9525\n",
      "  9527  9531  9532  9535  9543  9545  9564  9574  9575  9576  9580  9583\n",
      "  9592  9600  9606  9607  9608  9623  9626  9628  9631  9633  9636  9648\n",
      "  9654  9655  9661  9662  9674  9697  9698  9704  9711  9713  9722  9723\n",
      "  9730  9733  9734  9738  9740  9745  9747  9748  9755  9764  9766  9777\n",
      "  9779  9796  9803  9810  9813  9814  9822  9824  9828  9829  9836  9837\n",
      "  9843  9846  9852  9855  9856  9864  9893  9897  9900  9922  9975  9998\n",
      "  9999 10000 10005 10010 10017 10018 10024 10027 10030 10035 10038 10068\n",
      " 10071 10072 10078 10082 10084 10086 10089 10090 10091 10095 10097 10103\n",
      " 10105 10109 10111 10131 10144 10158 10168 10170 10174 10175 10176 10184\n",
      " 10187 10188 10191 10192 10193 10194 10195 10197 10199 10200 10203 10206\n",
      " 10207 10208 10210 10213 10221 10224 10227 10230 10231 10235 10236 10239\n",
      " 10241 10244 10247 10249 10251 10253 10254 10261 10268 10294 10319 10320\n",
      " 10340 10341 10343 10346 10348 10350 10351 10356 10357 10359 10363 10364\n",
      " 10365 10366 10370 10372 10374 10377 10378 10379 10380 10381 10382 10383\n",
      " 10384 10385 10386 10387 10388 10389 10390 10391 10392 10409 10410 10411\n",
      " 10412 10426 10428 10434 10479 10495 10505 10513 10527 10544 10547 10556\n",
      " 10561 10574 10575 10579 10588 10589 10593 10595 10599 10603 10605 10606\n",
      " 10607 10608 10609 10610 10611 10612 10613 10616 10619 10631 10633 10638\n",
      " 10648 10650 10675 10678 10679 10777 10782 10797 10800 10809 10810 10811\n",
      " 10812 10813 10814 10815 10816 10817 10818 10819 10820 10821 10822 10823\n",
      " 10824 10825 10826 10827 10828 10829 10830 10831 10832 10833 10834 10835\n",
      " 10836 10837 10838 10839 10840 10841 10842 10843 10844 10848 10851 10852] are constant.\n",
      "  warnings.warn(\"Features %s are constant.\" % constant_features_idx, UserWarning)\n",
      "c:\\Users\\Dell\\AppData\\Local\\Programs\\Python\\Python39\\lib\\site-packages\\sklearn\\feature_selection\\_univariate_selection.py:113: RuntimeWarning: invalid value encountered in true_divide\n",
      "  f = msb / msw\n",
      "c:\\Users\\Dell\\AppData\\Local\\Programs\\Python\\Python39\\lib\\site-packages\\sklearn\\feature_selection\\_univariate_selection.py:112: UserWarning: Features [ 1395  1652  2159  2179  2331  2383  2436  2544  3373  3419  3456  3497\n",
      "  3498  3514  3601  3602  3613  3756  3858  3870  3886  4075  4113  4114\n",
      "  4124  4176  4188  4340  4485  4590  4684  4802  4973  5024  5074  5130\n",
      "  5258  5293  5294  5309  5313  5319  5335  5337  5340  5341  5345  5359\n",
      "  5367  5373  5383  5404  5411  5421  5424  5440  5474  5497  5555  5556\n",
      "  5574  5579  5596  5623  5624  5631  5635  5637  5644  5667  5674  5682\n",
      "  5691  5696  5720  5735  5753  5784  5793  5795  5809  5810  5814  5818\n",
      "  5819  5820  5823  5835  5846  5875  5903  5915  5929  5931  5946  5955\n",
      "  5985  6027  6044  6051  6061  6088  6098  6109  6110  6114  6127  6134\n",
      "  6144  6159  6179  6193  6203  6212  6217  6220  6248  6253  6257  6291\n",
      "  6299  6300  6303  6372  6381  6383  6417  6423  6424  6432  6447  6462\n",
      "  6485  6486  6497  6502  6505  6507  6555  6566  6568  6575  6577  6580\n",
      "  6585  6586  6618  6630  6645  6669  6671  6673  6686  6688  6699  6708\n",
      "  6716  6726  6730  6742  6749  6750  6753  6756  6761  6769  6882  6885\n",
      "  6920  6939  6946  6947  7025  7034  7036  7037  7051  7081  7086  7094\n",
      "  7101  7107  7139  7159  7161  7173  7174  7187  7201  7211  7224  7297\n",
      "  7300  7306  7307  7379  7409  7415  7435  7461  7475  7489  7499  7520\n",
      "  7523  7541  7558  7562  7569  7578  7614  7617  7631  7635  7649  7661\n",
      "  7662  7668  7689  7698  7699  7704  7705  7711  7712  7713  7733  7739\n",
      "  7756  7759  7887  7891  7939  7975  7993  8085  8111  8184  8193  8259\n",
      "  8297  8301  8304  8313  8314  8343  8373  8394  8420  8421  8469  8471\n",
      "  8485  8504  8528  8539  8540  8552  8558  8564  8567  8574  8579  8581\n",
      "  8593  8606  8614  8649  8654  8655  8670  8681  8689  8696  8715  8720\n",
      "  8747  8767  8768  8776  8788  8799  8802  8812  8821  8829  8830  8833\n",
      "  8835  8868  8876  8883  8892  8894  8897  8898  8899  8905  8906  8908\n",
      "  8914  8917  8930  8932  8954  8997  9016  9077  9084  9087  9091  9097\n",
      "  9124  9134  9149  9153  9160  9161  9182  9197  9199  9209  9210  9233\n",
      "  9252  9270  9290  9294  9296  9301  9304  9307  9309  9311  9312  9313\n",
      "  9325  9336  9343  9344  9346  9354  9367  9368  9373  9374  9375  9387\n",
      "  9399  9406  9422  9431  9437  9443  9451  9460  9466  9501  9520  9525\n",
      "  9527  9531  9532  9535  9543  9545  9564  9574  9575  9576  9580  9583\n",
      "  9592  9600  9606  9607  9608  9623  9626  9628  9631  9633  9636  9648\n",
      "  9654  9655  9661  9662  9674  9697  9698  9704  9711  9713  9722  9723\n",
      "  9730  9733  9734  9738  9740  9745  9747  9748  9755  9764  9766  9777\n",
      "  9779  9796  9803  9810  9813  9814  9822  9824  9828  9829  9836  9837\n",
      "  9843  9846  9852  9855  9856  9864  9893  9897  9900  9922  9975  9998\n",
      "  9999 10000 10005 10010 10017 10018 10024 10027 10030 10035 10038 10068\n",
      " 10071 10072 10078 10082 10084 10086 10089 10090 10091 10095 10097 10103\n",
      " 10105 10109 10111 10131 10144 10158 10168 10170 10174 10175 10176 10184\n",
      " 10187 10188 10191 10192 10193 10194 10195 10197 10199 10200 10203 10206\n",
      " 10207 10208 10210 10213 10221 10224 10227 10230 10231 10235 10236 10239\n",
      " 10241 10244 10247 10249 10251 10253 10254 10261 10268 10294 10319 10320\n",
      " 10340 10341 10343 10346 10348 10350 10351 10356 10357 10359 10363 10364\n",
      " 10365 10366 10370 10372 10374 10377 10378 10379 10380 10381 10382 10383\n",
      " 10384 10385 10386 10387 10388 10389 10390 10391 10392 10409 10410 10411\n",
      " 10412 10426 10428 10434 10479 10495 10505 10513 10527 10544 10547 10556\n",
      " 10561 10574 10575 10579 10588 10589 10593 10595 10599 10603 10605 10606\n",
      " 10607 10608 10609 10610 10611 10612 10613 10616 10619 10631 10633 10638\n",
      " 10648 10650 10675 10678 10679 10777 10782 10797 10800 10809 10810 10811\n",
      " 10812 10813 10814 10815 10816 10817 10818 10819 10820 10821 10822 10823\n",
      " 10824 10825 10826 10827 10828 10829 10830 10831 10832 10833 10834 10835\n",
      " 10836 10837 10838 10839 10840 10841 10842 10843 10844 10848 10851 10852] are constant.\n",
      "  warnings.warn(\"Features %s are constant.\" % constant_features_idx, UserWarning)\n",
      "c:\\Users\\Dell\\AppData\\Local\\Programs\\Python\\Python39\\lib\\site-packages\\sklearn\\feature_selection\\_univariate_selection.py:113: RuntimeWarning: invalid value encountered in true_divide\n",
      "  f = msb / msw\n",
      "c:\\Users\\Dell\\AppData\\Local\\Programs\\Python\\Python39\\lib\\site-packages\\sklearn\\feature_selection\\_univariate_selection.py:112: UserWarning: Features [ 1395  1652  2159  2179  2331  2383  2436  2544  3373  3419  3456  3497\n",
      "  3498  3514  3601  3602  3613  3756  3858  3870  3886  4075  4113  4114\n",
      "  4124  4176  4188  4340  4485  4590  4684  4802  4973  5024  5074  5130\n",
      "  5258  5293  5294  5309  5313  5319  5335  5337  5340  5341  5345  5359\n",
      "  5367  5373  5383  5404  5411  5421  5424  5440  5474  5497  5555  5556\n",
      "  5574  5579  5596  5623  5624  5631  5635  5637  5644  5667  5674  5682\n",
      "  5691  5696  5720  5735  5753  5784  5793  5795  5809  5810  5814  5818\n",
      "  5819  5820  5823  5835  5846  5875  5903  5915  5929  5931  5946  5955\n",
      "  5985  6027  6044  6051  6061  6088  6098  6109  6110  6114  6127  6134\n",
      "  6144  6159  6179  6193  6203  6212  6217  6220  6248  6253  6257  6291\n",
      "  6299  6300  6303  6372  6381  6383  6417  6423  6424  6432  6447  6462\n",
      "  6485  6486  6497  6502  6505  6507  6555  6566  6568  6575  6577  6580\n",
      "  6585  6586  6618  6630  6645  6669  6671  6673  6686  6688  6699  6708\n",
      "  6716  6726  6730  6742  6749  6750  6753  6756  6761  6769  6882  6885\n",
      "  6920  6939  6946  6947  7025  7034  7036  7037  7051  7081  7086  7094\n",
      "  7101  7107  7139  7159  7161  7173  7174  7187  7201  7211  7224  7297\n",
      "  7300  7306  7307  7379  7409  7415  7435  7461  7475  7489  7499  7520\n",
      "  7523  7541  7558  7562  7569  7578  7614  7617  7631  7635  7649  7661\n",
      "  7662  7668  7689  7698  7699  7704  7705  7711  7712  7713  7733  7739\n",
      "  7756  7759  7887  7891  7939  7975  7993  8085  8111  8184  8193  8259\n",
      "  8297  8301  8304  8313  8314  8343  8373  8394  8420  8421  8469  8471\n",
      "  8485  8504  8528  8539  8540  8552  8558  8564  8567  8574  8579  8581\n",
      "  8593  8606  8614  8649  8654  8655  8670  8681  8689  8696  8715  8720\n",
      "  8747  8767  8768  8776  8788  8799  8802  8812  8821  8829  8830  8833\n",
      "  8835  8868  8876  8883  8892  8894  8897  8898  8899  8905  8906  8908\n",
      "  8914  8917  8930  8932  8954  8997  9016  9077  9084  9087  9091  9097\n",
      "  9124  9134  9149  9153  9160  9161  9182  9197  9199  9209  9210  9233\n",
      "  9252  9270  9290  9294  9296  9301  9304  9307  9309  9311  9312  9313\n",
      "  9325  9336  9343  9344  9346  9354  9367  9368  9373  9374  9375  9387\n",
      "  9399  9406  9422  9431  9437  9443  9451  9460  9466  9501  9520  9525\n",
      "  9527  9531  9532  9535  9543  9545  9564  9574  9575  9576  9580  9583\n",
      "  9592  9600  9606  9607  9608  9623  9626  9628  9631  9633  9636  9648\n",
      "  9654  9655  9661  9662  9674  9697  9698  9704  9711  9713  9722  9723\n",
      "  9730  9733  9734  9738  9740  9745  9747  9748  9755  9764  9766  9777\n",
      "  9779  9796  9803  9810  9813  9814  9822  9824  9828  9829  9836  9837\n",
      "  9843  9846  9852  9855  9856  9864  9893  9897  9900  9922  9975  9998\n",
      "  9999 10000 10005 10010 10017 10018 10024 10027 10030 10035 10038 10068\n",
      " 10071 10072 10078 10082 10084 10086 10089 10090 10091 10095 10097 10103\n",
      " 10105 10109 10111 10131 10144 10158 10168 10170 10174 10175 10176 10184\n",
      " 10187 10188 10191 10192 10193 10194 10195 10197 10199 10200 10203 10206\n",
      " 10207 10208 10210 10213 10221 10224 10227 10230 10231 10235 10236 10239\n",
      " 10241 10244 10247 10249 10251 10253 10254 10261 10268 10294 10319 10320\n",
      " 10340 10341 10343 10346 10348 10350 10351 10356 10357 10359 10363 10364\n",
      " 10365 10366 10370 10372 10374 10377 10378 10379 10380 10381 10382 10383\n",
      " 10384 10385 10386 10387 10388 10389 10390 10391 10392 10409 10410 10411\n",
      " 10412 10426 10428 10434 10479 10495 10505 10513 10527 10544 10547 10556\n",
      " 10561 10574 10575 10579 10588 10589 10593 10595 10599 10603 10605 10606\n",
      " 10607 10608 10609 10610 10611 10612 10613 10616 10619 10631 10633 10638\n",
      " 10648 10650 10675 10678 10679 10777 10782 10797 10800 10809 10810 10811\n",
      " 10812 10813 10814 10815 10816 10817 10818 10819 10820 10821 10822 10823\n",
      " 10824 10825 10826 10827 10828 10829 10830 10831 10832 10833 10834 10835\n",
      " 10836 10837 10838 10839 10840 10841 10842 10843 10844 10848 10851 10852] are constant.\n",
      "  warnings.warn(\"Features %s are constant.\" % constant_features_idx, UserWarning)\n",
      "c:\\Users\\Dell\\AppData\\Local\\Programs\\Python\\Python39\\lib\\site-packages\\sklearn\\feature_selection\\_univariate_selection.py:113: RuntimeWarning: invalid value encountered in true_divide\n",
      "  f = msb / msw\n"
     ]
    }
   ],
   "source": [
    "ANOVA_F_data = {}\n",
    "ANOVA_F_data[2500] = anova_f_feature_selection(X_train, X_test, 2500)\n",
    "ANOVA_F_data[5000] = anova_f_feature_selection(X_train, X_test, 5000)\n",
    "ANOVA_F_data[7500] = anova_f_feature_selection(X_train, X_test, 7500)"
   ]
  },
  {
   "cell_type": "markdown",
   "metadata": {},
   "source": [
    "### Áp dụng thuật toán"
   ]
  },
  {
   "cell_type": "markdown",
   "metadata": {},
   "source": [
    "#### Neural Network"
   ]
  },
  {
   "cell_type": "code",
   "execution_count": 14,
   "metadata": {},
   "outputs": [],
   "source": [
    "def NN(X_train, X_test, feature_selection_option, n = 0):\n",
    "    print(\"Loại trích chọn đặc trưng: \", feature_selection_option)\n",
    "    # Optimize\n",
    "    adam = tf.keras.optimizers.Adam(learning_rate=0.001)\n",
    "\n",
    "    # Model\n",
    "    model = keras.Sequential([\n",
    "    keras.layers.Dense(64, input_shape = (X_train.shape[1],), activation='sigmoid'),\n",
    "    keras.layers.Dropout(0.2),\n",
    "    keras.layers.Dense(32, activation='sigmoid'),\n",
    "    keras.layers.Dropout(0.2),\n",
    "    keras.layers.Dense(32, activation='sigmoid'),\n",
    "    keras.layers.Dropout(0.2),\n",
    "    keras.layers.Dense(17, activation='softmax')])\n",
    "\n",
    "    model.compile(optimizer=adam,\n",
    "                    loss='categorical_crossentropy',\n",
    "                    metrics=['accuracy', tf.keras.metrics.Precision(), tf.keras.metrics.Recall()])\n",
    "\n",
    "    model.fit(X_train, y_train_nn, epochs=4, batch_size=8)\n",
    "\n",
    "    loss, accuracy, precision, recall = model.evaluate(X_test, y_test_nn)\n",
    "    print(\"Loss of NN: \" + str(loss))\n",
    "    print(\"Accuracy of NN: \" + str(accuracy))\n",
    "    print(\"Precision of NN: \" + str(precision))\n",
    "    print(\"Recall of NN: \" + str(recall))\n",
    "\n",
    "    # model.save(\"nn_{}_model.h5\".format(feature_selection_option + \"_\" + str(n)))\n",
    "\n"
   ]
  },
  {
   "cell_type": "code",
   "execution_count": 15,
   "metadata": {},
   "outputs": [
    {
     "name": "stdout",
     "output_type": "stream",
     "text": [
      "Loại trích chọn đặc trưng:  None\n",
      "Epoch 1/4\n",
      "1031/1031 [==============================] - 8s 6ms/step - loss: 1.7547 - accuracy: 0.5125 - precision: 0.9606 - recall: 0.0532\n",
      "Epoch 2/4\n",
      "1031/1031 [==============================] - 6s 6ms/step - loss: 0.7122 - accuracy: 0.8733 - precision: 0.9517 - recall: 0.6281\n",
      "Epoch 3/4\n",
      "1031/1031 [==============================] - 6s 6ms/step - loss: 0.3685 - accuracy: 0.9388 - precision: 0.9627 - recall: 0.8909\n",
      "Epoch 4/4\n",
      "1031/1031 [==============================] - 6s 6ms/step - loss: 0.2334 - accuracy: 0.9563 - precision: 0.9711 - recall: 0.9383\n",
      "111/111 [==============================] - 1s 4ms/step - loss: 0.3110 - accuracy: 0.9219 - precision: 0.9370 - recall: 0.9132\n",
      "Loss of NN: 0.3110199272632599\n",
      "Accuracy of NN: 0.9219236373901367\n",
      "Precision of NN: 0.9370101690292358\n",
      "Recall of NN: 0.9131541848182678\n"
     ]
    }
   ],
   "source": [
    "NN(X_train, X_test, \"None\")"
   ]
  },
  {
   "cell_type": "markdown",
   "metadata": {},
   "source": [
    "#### SVM"
   ]
  },
  {
   "cell_type": "code",
   "execution_count": 16,
   "metadata": {},
   "outputs": [],
   "source": [
    "# instantiating the object\n",
    "def SVM(X_train, X_test, feature_selection_option, n = 0):\n",
    "    print(\"Loại trích chọn đặc trưng: \", feature_selection_option)\n",
    "    svm = SVC(kernel='linear')\n",
    "\n",
    "    # fitting the model\n",
    "    svm.fit(X_train,y_train)\n",
    "\n",
    "    # predicting the values\n",
    "    y_pred = svm.predict(X_test)\n",
    "\n",
    "    # Confusion matrix\n",
    "    conf = confusion_matrix(y_test, y_pred)\n",
    "    # print (\"Confusion Matrix : \\n\", conf)\n",
    "\n",
    "    # printing the test accuracy\n",
    "    svm_acc = accuracy_score(y_test, y_pred)\n",
    "    print(\"Accuracy:\", svm_acc)\n",
    "    svm_precision = precision_score(y_test, y_pred, average=\"weighted\")\n",
    "    print(\"Precision: \", svm_precision)\n",
    "    svm_recall = recall_score(y_test, y_pred, average=\"weighted\")\n",
    "    print(\"Recall: \", svm_recall)\n",
    "\n",
    "    joblib.dump(svm, \"svm_{}_model.joblib\".format(feature_selection_option + \"_\" + str(n)))"
   ]
  },
  {
   "cell_type": "markdown",
   "metadata": {},
   "source": [
    "#### KNN"
   ]
  },
  {
   "cell_type": "code",
   "execution_count": 17,
   "metadata": {},
   "outputs": [],
   "source": [
    "def KNN(X_train, X_test, feature_selection_option, n = 0):\n",
    "    print(\"Loại trích chọn đặc trưng: \", feature_selection_option)\n",
    "    # instantiating the object and fitting\n",
    "    knn = KNeighborsClassifier(n_neighbors = 7)  \n",
    "\n",
    "    # fitting the model\n",
    "    knn.fit(X_train,y_train)\n",
    "\n",
    "    # predicting the values\n",
    "    y_pred = knn.predict(X_test)\n",
    "\n",
    "    # Confusion matrix\n",
    "    conf = confusion_matrix(y_test, y_pred)\n",
    "    # print (\"Confusion Matrix : \\n\", conf)\n",
    "\n",
    "    # printing the test accuracy\n",
    "    knn_acc = accuracy_score(y_test, y_pred)\n",
    "    print(\"Accuracy score của KNN là: \", knn_acc)\n",
    "    knn_precision = precision_score(y_test, y_pred, average=\"weighted\")\n",
    "    print(\"Precision score của KNN là: \", knn_precision)\n",
    "    knn_recall = recall_score(y_test, y_pred, average=\"weighted\")\n",
    "    print(\"Recall score của KNN là: \", knn_recall)\n",
    "\n",
    "    # joblib.dump(knn, \"knn_{}_model.joblib\".format(feature_selection_option + \"_\" + str(n)))\n"
   ]
  },
  {
   "cell_type": "markdown",
   "metadata": {},
   "source": [
    "### Thực nghiệm"
   ]
  },
  {
   "cell_type": "markdown",
   "metadata": {},
   "source": [
    "#### Neural Networks"
   ]
  },
  {
   "cell_type": "markdown",
   "metadata": {},
   "source": [
    "##### Số lượng đăc trưng trích chọn = 2500"
   ]
  },
  {
   "cell_type": "code",
   "execution_count": 18,
   "metadata": {},
   "outputs": [
    {
     "name": "stdout",
     "output_type": "stream",
     "text": [
      "Loại trích chọn đặc trưng:  mutual_information\n",
      "Epoch 1/4\n"
     ]
    },
    {
     "name": "stdout",
     "output_type": "stream",
     "text": [
      "1031/1031 [==============================] - 5s 3ms/step - loss: 1.8109 - accuracy: 0.5009 - precision_1: 0.9731 - recall_1: 0.0571\n",
      "Epoch 2/4\n",
      "1031/1031 [==============================] - 3s 3ms/step - loss: 0.7571 - accuracy: 0.8633 - precision_1: 0.9507 - recall_1: 0.6145\n",
      "Epoch 3/4\n",
      "1031/1031 [==============================] - 3s 3ms/step - loss: 0.4141 - accuracy: 0.9234 - precision_1: 0.9552 - recall_1: 0.8626\n",
      "Epoch 4/4\n",
      "1031/1031 [==============================] - 3s 3ms/step - loss: 0.2881 - accuracy: 0.9447 - precision_1: 0.9619 - recall_1: 0.9203\n",
      "111/111 [==============================] - 1s 3ms/step - loss: 0.3102 - accuracy: 0.9233 - precision_1: 0.9359 - recall_1: 0.9126\n",
      "Loss of NN: 0.31019067764282227\n",
      "Accuracy of NN: 0.9233380556106567\n",
      "Precision of NN: 0.9358862638473511\n",
      "Recall of NN: 0.9125884175300598\n"
     ]
    }
   ],
   "source": [
    "NN(MI_data[2500][\"X_train\"], MI_data[2500][\"X_test\"], \"mutual_information\", 2500)"
   ]
  },
  {
   "cell_type": "code",
   "execution_count": 19,
   "metadata": {},
   "outputs": [
    {
     "name": "stdout",
     "output_type": "stream",
     "text": [
      "Loại trích chọn đặc trưng:  chi_square\n"
     ]
    },
    {
     "name": "stdout",
     "output_type": "stream",
     "text": [
      "Epoch 1/4\n",
      "1031/1031 [==============================] - 5s 3ms/step - loss: 1.7904 - accuracy: 0.5155 - precision_2: 0.9893 - recall_2: 0.0561\n",
      "Epoch 2/4\n",
      "1031/1031 [==============================] - 3s 3ms/step - loss: 0.7634 - accuracy: 0.8522 - precision_2: 0.9547 - recall_2: 0.5904\n",
      "Epoch 3/4\n",
      "1031/1031 [==============================] - 3s 3ms/step - loss: 0.4200 - accuracy: 0.9223 - precision_2: 0.9577 - recall_2: 0.8585\n",
      "Epoch 4/4\n",
      "1031/1031 [==============================] - 3s 3ms/step - loss: 0.2746 - accuracy: 0.9470 - precision_2: 0.9635 - recall_2: 0.9217\n",
      "111/111 [==============================] - 1s 3ms/step - loss: 0.2935 - accuracy: 0.9262 - precision_2: 0.9395 - recall_2: 0.9180\n",
      "Loss of NN: 0.293517142534256\n",
      "Accuracy of NN: 0.9261668920516968\n",
      "Precision of NN: 0.9394904375076294\n",
      "Recall of NN: 0.9179632067680359\n"
     ]
    }
   ],
   "source": [
    "NN(CHI2_data[2500][\"X_train\"], CHI2_data[2500][\"X_test\"], \"chi_square\", 2500)"
   ]
  },
  {
   "cell_type": "code",
   "execution_count": 20,
   "metadata": {},
   "outputs": [
    {
     "name": "stdout",
     "output_type": "stream",
     "text": [
      "Loại trích chọn đặc trưng:  anova_f\n"
     ]
    },
    {
     "name": "stdout",
     "output_type": "stream",
     "text": [
      "Epoch 1/4\n",
      "1031/1031 [==============================] - 5s 3ms/step - loss: 1.8186 - accuracy: 0.4968 - precision_3: 0.9821 - recall_3: 0.0467\n",
      "Epoch 2/4\n",
      "1031/1031 [==============================] - 3s 3ms/step - loss: 0.8021 - accuracy: 0.8561 - precision_3: 0.9595 - recall_3: 0.5797\n",
      "Epoch 3/4\n",
      "1031/1031 [==============================] - 3s 3ms/step - loss: 0.4463 - accuracy: 0.9180 - precision_3: 0.9579 - recall_3: 0.8533\n",
      "Epoch 4/4\n",
      "1031/1031 [==============================] - 3s 3ms/step - loss: 0.3013 - accuracy: 0.9408 - precision_3: 0.9626 - recall_3: 0.9155\n",
      "111/111 [==============================] - 1s 2ms/step - loss: 0.3043 - accuracy: 0.9236 - precision_3: 0.9390 - recall_3: 0.9149\n",
      "Loss of NN: 0.30426648259162903\n",
      "Accuracy of NN: 0.9236209392547607\n",
      "Precision of NN: 0.9390243887901306\n",
      "Recall of NN: 0.9148514866828918\n"
     ]
    }
   ],
   "source": [
    "NN(ANOVA_F_data[2500][\"X_train\"], ANOVA_F_data[2500][\"X_test\"], \"anova_f\", 2500)"
   ]
  },
  {
   "cell_type": "markdown",
   "metadata": {},
   "source": [
    "##### Số lượng đăc trưng trích chọn = 5000"
   ]
  },
  {
   "cell_type": "code",
   "execution_count": 21,
   "metadata": {},
   "outputs": [
    {
     "name": "stdout",
     "output_type": "stream",
     "text": [
      "Loại trích chọn đặc trưng:  mutual_information\n",
      "Epoch 1/4\n",
      "1031/1031 [==============================] - 6s 5ms/step - loss: 1.8213 - accuracy: 0.5306 - precision_4: 0.9684 - recall_4: 0.0483\n",
      "Epoch 2/4\n",
      "1031/1031 [==============================] - 5s 4ms/step - loss: 0.6979 - accuracy: 0.8841 - precision_4: 0.9589 - recall_4: 0.6508\n",
      "Epoch 3/4\n",
      "1031/1031 [==============================] - 5s 4ms/step - loss: 0.3829 - accuracy: 0.9259 - precision_4: 0.9548 - recall_4: 0.8764\n",
      "Epoch 4/4\n",
      "1031/1031 [==============================] - 5s 4ms/step - loss: 0.2555 - accuracy: 0.9513 - precision_4: 0.9678 - recall_4: 0.9322\n",
      "111/111 [==============================] - 1s 3ms/step - loss: 0.2931 - accuracy: 0.9219 - precision_4: 0.9347 - recall_4: 0.9157\n",
      "Loss of NN: 0.29312142729759216\n",
      "Accuracy of NN: 0.9219236373901367\n",
      "Precision of NN: 0.9347386956214905\n",
      "Recall of NN: 0.9157001376152039\n"
     ]
    }
   ],
   "source": [
    "NN(MI_data[5000][\"X_train\"], MI_data[5000][\"X_test\"], \"mutual_information\", 5000)"
   ]
  },
  {
   "cell_type": "code",
   "execution_count": 22,
   "metadata": {},
   "outputs": [
    {
     "name": "stdout",
     "output_type": "stream",
     "text": [
      "Loại trích chọn đặc trưng:  chi_square\n"
     ]
    },
    {
     "name": "stdout",
     "output_type": "stream",
     "text": [
      "Epoch 1/4\n",
      "1031/1031 [==============================] - 6s 4ms/step - loss: 1.7939 - accuracy: 0.5269 - precision_5: 0.9592 - recall_5: 0.0542\n",
      "Epoch 2/4\n",
      "1031/1031 [==============================] - 5s 5ms/step - loss: 0.7147 - accuracy: 0.8817 - precision_5: 0.9588 - recall_5: 0.6371\n",
      "Epoch 3/4\n",
      "1031/1031 [==============================] - 5s 4ms/step - loss: 0.3769 - accuracy: 0.9331 - precision_5: 0.9632 - recall_5: 0.8797\n",
      "Epoch 4/4\n",
      "1031/1031 [==============================] - 5s 4ms/step - loss: 0.2475 - accuracy: 0.9551 - precision_5: 0.9681 - recall_5: 0.9315\n",
      "111/111 [==============================] - 1s 3ms/step - loss: 0.2950 - accuracy: 0.9245 - precision_5: 0.9335 - recall_5: 0.9168\n",
      "Loss of NN: 0.29504096508026123\n",
      "Accuracy of NN: 0.9244695901870728\n",
      "Precision of NN: 0.9334677457809448\n",
      "Recall of NN: 0.9168316721916199\n"
     ]
    }
   ],
   "source": [
    "NN(CHI2_data[5000][\"X_train\"], CHI2_data[5000][\"X_test\"], \"chi_square\", 5000)"
   ]
  },
  {
   "cell_type": "code",
   "execution_count": 23,
   "metadata": {},
   "outputs": [
    {
     "name": "stdout",
     "output_type": "stream",
     "text": [
      "Loại trích chọn đặc trưng:  anova_f\n"
     ]
    },
    {
     "name": "stdout",
     "output_type": "stream",
     "text": [
      "Epoch 1/4\n",
      "1031/1031 [==============================] - 6s 4ms/step - loss: 1.7921 - accuracy: 0.5196 - precision_6: 0.9461 - recall_6: 0.0510\n",
      "Epoch 2/4\n",
      "1031/1031 [==============================] - 5s 4ms/step - loss: 0.7382 - accuracy: 0.8671 - precision_6: 0.9550 - recall_6: 0.6379\n",
      "Epoch 3/4\n",
      "1031/1031 [==============================] - 5s 5ms/step - loss: 0.3976 - accuracy: 0.9312 - precision_6: 0.9592 - recall_6: 0.8774\n",
      "Epoch 4/4\n",
      "1031/1031 [==============================] - 5s 5ms/step - loss: 0.2742 - accuracy: 0.9487 - precision_6: 0.9656 - recall_6: 0.9251\n",
      "111/111 [==============================] - 1s 3ms/step - loss: 0.3159 - accuracy: 0.9222 - precision_6: 0.9382 - recall_6: 0.9149\n",
      "Loss of NN: 0.31586143374443054\n",
      "Accuracy of NN: 0.9222065210342407\n",
      "Precision of NN: 0.9382071495056152\n",
      "Recall of NN: 0.9148514866828918\n"
     ]
    }
   ],
   "source": [
    "NN(ANOVA_F_data[5000][\"X_train\"], ANOVA_F_data[5000][\"X_test\"], \"anova_f\", 5000)"
   ]
  },
  {
   "cell_type": "markdown",
   "metadata": {},
   "source": [
    "##### Số lượng đăc trưng trích chọn = 7500"
   ]
  },
  {
   "cell_type": "code",
   "execution_count": 24,
   "metadata": {},
   "outputs": [
    {
     "name": "stdout",
     "output_type": "stream",
     "text": [
      "Loại trích chọn đặc trưng:  mutual_information\n"
     ]
    },
    {
     "name": "stdout",
     "output_type": "stream",
     "text": [
      "Epoch 1/4\n",
      "1031/1031 [==============================] - 8s 6ms/step - loss: 1.7457 - accuracy: 0.5533 - precision_7: 0.9683 - recall_7: 0.0666\n",
      "Epoch 2/4\n",
      "1031/1031 [==============================] - 6s 6ms/step - loss: 0.6964 - accuracy: 0.8901 - precision_7: 0.9603 - recall_7: 0.6741\n",
      "Epoch 3/4\n",
      "1031/1031 [==============================] - 6s 6ms/step - loss: 0.3829 - accuracy: 0.9379 - precision_7: 0.9646 - recall_7: 0.8933\n",
      "Epoch 4/4\n",
      "1031/1031 [==============================] - 6s 6ms/step - loss: 0.2649 - accuracy: 0.9545 - precision_7: 0.9708 - recall_7: 0.9340\n",
      "111/111 [==============================] - 1s 4ms/step - loss: 0.3197 - accuracy: 0.9256 - precision_7: 0.9376 - recall_7: 0.9182\n",
      "Loss of NN: 0.3197343349456787\n",
      "Accuracy of NN: 0.9256011247634888\n",
      "Precision of NN: 0.9376083016395569\n",
      "Recall of NN: 0.9182460904121399\n"
     ]
    }
   ],
   "source": [
    "NN(MI_data[7500][\"X_train\"], MI_data[7500][\"X_test\"], \"mutual_information\", 7500)"
   ]
  },
  {
   "cell_type": "code",
   "execution_count": 25,
   "metadata": {},
   "outputs": [
    {
     "name": "stdout",
     "output_type": "stream",
     "text": [
      "Loại trích chọn đặc trưng:  chi_square\n"
     ]
    },
    {
     "name": "stdout",
     "output_type": "stream",
     "text": [
      "Epoch 1/4\n",
      "1031/1031 [==============================] - 7s 5ms/step - loss: 1.8238 - accuracy: 0.5028 - precision_8: 0.9718 - recall_8: 0.0543\n",
      "Epoch 2/4\n",
      "1031/1031 [==============================] - 5s 5ms/step - loss: 0.7768 - accuracy: 0.8386 - precision_8: 0.9564 - recall_8: 0.5636\n",
      "Epoch 3/4\n",
      "1031/1031 [==============================] - 5s 5ms/step - loss: 0.4023 - accuracy: 0.9283 - precision_8: 0.9610 - recall_8: 0.8644\n",
      "Epoch 4/4\n",
      "1031/1031 [==============================] - 5s 5ms/step - loss: 0.2589 - accuracy: 0.9498 - precision_8: 0.9662 - recall_8: 0.9254\n",
      "111/111 [==============================] - 1s 3ms/step - loss: 0.3570 - accuracy: 0.9120 - precision_8: 0.9266 - recall_8: 0.9030\n",
      "Loss of NN: 0.35703784227371216\n",
      "Accuracy of NN: 0.9120226502418518\n",
      "Precision of NN: 0.9265602231025696\n",
      "Recall of NN: 0.9029703140258789\n"
     ]
    }
   ],
   "source": [
    "NN(CHI2_data[7500][\"X_train\"], CHI2_data[7500][\"X_test\"], \"chi_square\", 7500)"
   ]
  },
  {
   "cell_type": "code",
   "execution_count": 26,
   "metadata": {},
   "outputs": [
    {
     "name": "stdout",
     "output_type": "stream",
     "text": [
      "Loại trích chọn đặc trưng:  anova_f\n"
     ]
    },
    {
     "name": "stdout",
     "output_type": "stream",
     "text": [
      "Epoch 1/4\n",
      "1031/1031 [==============================] - 7s 5ms/step - loss: 1.7962 - accuracy: 0.5295 - precision_9: 0.9538 - recall_9: 0.0601\n",
      "Epoch 2/4\n",
      "1031/1031 [==============================] - 5s 5ms/step - loss: 0.6967 - accuracy: 0.8775 - precision_9: 0.9535 - recall_9: 0.6511\n",
      "Epoch 3/4\n",
      "1031/1031 [==============================] - 6s 5ms/step - loss: 0.3699 - accuracy: 0.9321 - precision_9: 0.9618 - recall_9: 0.8834\n",
      "Epoch 4/4\n",
      "1031/1031 [==============================] - 5s 5ms/step - loss: 0.2450 - accuracy: 0.9555 - precision_9: 0.9693 - recall_9: 0.9342\n",
      "111/111 [==============================] - 1s 3ms/step - loss: 0.2830 - accuracy: 0.9284 - precision_9: 0.9395 - recall_9: 0.9228\n",
      "Loss of NN: 0.28298550844192505\n",
      "Accuracy of NN: 0.9284299612045288\n",
      "Precision of NN: 0.9395161271095276\n",
      "Recall of NN: 0.9227722883224487\n"
     ]
    }
   ],
   "source": [
    "NN(ANOVA_F_data[7500][\"X_train\"], ANOVA_F_data[7500][\"X_test\"], \"anova_f\", 7500)"
   ]
  },
  {
   "cell_type": "markdown",
   "metadata": {},
   "source": [
    "##### Không trích chọn đặc trưng"
   ]
  },
  {
   "cell_type": "code",
   "execution_count": 27,
   "metadata": {},
   "outputs": [
    {
     "name": "stdout",
     "output_type": "stream",
     "text": [
      "Loại trích chọn đặc trưng:  None\n"
     ]
    },
    {
     "name": "stdout",
     "output_type": "stream",
     "text": [
      "Epoch 1/4\n",
      "1031/1031 [==============================] - 7s 6ms/step - loss: 1.8127 - accuracy: 0.4889 - precision_10: 0.9430 - recall_10: 0.0301\n",
      "Epoch 2/4\n",
      "1031/1031 [==============================] - 6s 6ms/step - loss: 0.7553 - accuracy: 0.8682 - precision_10: 0.9567 - recall_10: 0.5925\n",
      "Epoch 3/4\n",
      "1031/1031 [==============================] - 6s 6ms/step - loss: 0.3813 - accuracy: 0.9356 - precision_10: 0.9646 - recall_10: 0.8812\n",
      "Epoch 4/4\n",
      "1031/1031 [==============================] - 6s 6ms/step - loss: 0.2380 - accuracy: 0.9557 - precision_10: 0.9705 - recall_10: 0.9371\n",
      "111/111 [==============================] - 1s 4ms/step - loss: 0.2904 - accuracy: 0.9287 - precision_10: 0.9419 - recall_10: 0.9219\n",
      "Loss of NN: 0.29036396741867065\n",
      "Accuracy of NN: 0.9287128448486328\n",
      "Precision of NN: 0.941907525062561\n",
      "Recall of NN: 0.9219236373901367\n"
     ]
    }
   ],
   "source": [
    "NN(X_train, X_test, \"None\")"
   ]
  },
  {
   "cell_type": "markdown",
   "metadata": {},
   "source": [
    "#### SVM"
   ]
  },
  {
   "cell_type": "markdown",
   "metadata": {},
   "source": [
    "##### Số lượng đăc trưng trích chọn = 2500"
   ]
  },
  {
   "cell_type": "code",
   "execution_count": 28,
   "metadata": {},
   "outputs": [
    {
     "name": "stdout",
     "output_type": "stream",
     "text": [
      "Loại trích chọn đặc trưng:  mutual_information\n",
      "Accuracy: 0.8845827439886845\n",
      "Precision:  0.8843992553220223\n",
      "Recall:  0.8845827439886845\n"
     ]
    }
   ],
   "source": [
    "SVM(MI_data[2500][\"X_train\"], MI_data[2500][\"X_test\"], \"mutual_information\", 2500)"
   ]
  },
  {
   "cell_type": "code",
   "execution_count": 29,
   "metadata": {},
   "outputs": [
    {
     "name": "stdout",
     "output_type": "stream",
     "text": [
      "Loại trích chọn đặc trưng:  chi_square\n"
     ]
    },
    {
     "name": "stdout",
     "output_type": "stream",
     "text": [
      "Accuracy: 0.885997171145686\n",
      "Precision:  0.8858201674229994\n",
      "Recall:  0.885997171145686\n"
     ]
    }
   ],
   "source": [
    "SVM(CHI2_data[2500][\"X_train\"], CHI2_data[2500][\"X_test\"], \"chi_square\", 2500)"
   ]
  },
  {
   "cell_type": "code",
   "execution_count": 30,
   "metadata": {},
   "outputs": [
    {
     "name": "stdout",
     "output_type": "stream",
     "text": [
      "Loại trích chọn đặc trưng:  anova_f\n"
     ]
    },
    {
     "name": "stdout",
     "output_type": "stream",
     "text": [
      "Accuracy: 0.8874115983026875\n",
      "Precision:  0.8869962652746592\n",
      "Recall:  0.8874115983026875\n"
     ]
    }
   ],
   "source": [
    "SVM(ANOVA_F_data[2500][\"X_train\"], ANOVA_F_data[2500][\"X_test\"], \"anova_f\", 2500)"
   ]
  },
  {
   "cell_type": "markdown",
   "metadata": {},
   "source": [
    "##### Số lượng đăc trưng trích chọn = 5000"
   ]
  },
  {
   "cell_type": "code",
   "execution_count": 31,
   "metadata": {},
   "outputs": [
    {
     "name": "stdout",
     "output_type": "stream",
     "text": [
      "Loại trích chọn đặc trưng:  mutual_information\n"
     ]
    },
    {
     "name": "stdout",
     "output_type": "stream",
     "text": [
      "Accuracy: 0.8865629420084865\n",
      "Precision:  0.8862319213308315\n",
      "Recall:  0.8865629420084865\n"
     ]
    }
   ],
   "source": [
    "SVM(MI_data[5000][\"X_train\"], MI_data[5000][\"X_test\"], \"mutual_information\", 5000)"
   ]
  },
  {
   "cell_type": "code",
   "execution_count": 32,
   "metadata": {},
   "outputs": [
    {
     "name": "stdout",
     "output_type": "stream",
     "text": [
      "Loại trích chọn đặc trưng:  chi_square\n"
     ]
    },
    {
     "name": "stdout",
     "output_type": "stream",
     "text": [
      "Accuracy: 0.8888260254596888\n",
      "Precision:  0.8885989549264599\n",
      "Recall:  0.8888260254596888\n"
     ]
    }
   ],
   "source": [
    "SVM(CHI2_data[5000][\"X_train\"], CHI2_data[5000][\"X_test\"], \"chi_square\", 5000)"
   ]
  },
  {
   "cell_type": "code",
   "execution_count": 33,
   "metadata": {},
   "outputs": [
    {
     "name": "stdout",
     "output_type": "stream",
     "text": [
      "Loại trích chọn đặc trưng:  anova_f\n"
     ]
    },
    {
     "name": "stdout",
     "output_type": "stream",
     "text": [
      "Accuracy: 0.8871287128712871\n",
      "Precision:  0.8868539627638538\n",
      "Recall:  0.8871287128712871\n"
     ]
    }
   ],
   "source": [
    "SVM(ANOVA_F_data[5000][\"X_train\"], ANOVA_F_data[5000][\"X_test\"], \"anova_f\", 5000)"
   ]
  },
  {
   "cell_type": "markdown",
   "metadata": {},
   "source": [
    "##### Số lượng đăc trưng trích chọn = 7500"
   ]
  },
  {
   "cell_type": "code",
   "execution_count": 34,
   "metadata": {},
   "outputs": [
    {
     "name": "stdout",
     "output_type": "stream",
     "text": [
      "Loại trích chọn đặc trưng:  mutual_information\n"
     ]
    },
    {
     "name": "stdout",
     "output_type": "stream",
     "text": [
      "Accuracy: 0.8885431400282885\n",
      "Precision:  0.8881227262749828\n",
      "Recall:  0.8885431400282885\n"
     ]
    }
   ],
   "source": [
    "SVM(MI_data[7500][\"X_train\"], MI_data[7500][\"X_test\"], \"mutual_information\", 7500)"
   ]
  },
  {
   "cell_type": "code",
   "execution_count": 35,
   "metadata": {},
   "outputs": [
    {
     "name": "stdout",
     "output_type": "stream",
     "text": [
      "Loại trích chọn đặc trưng:  chi_square\n"
     ]
    },
    {
     "name": "stdout",
     "output_type": "stream",
     "text": [
      "Accuracy: 0.8882602545968883\n",
      "Precision:  0.8881180132258605\n",
      "Recall:  0.8882602545968883\n"
     ]
    }
   ],
   "source": [
    "SVM(CHI2_data[7500][\"X_train\"], CHI2_data[7500][\"X_test\"], \"chi_square\", 7500)"
   ]
  },
  {
   "cell_type": "code",
   "execution_count": 36,
   "metadata": {},
   "outputs": [
    {
     "name": "stdout",
     "output_type": "stream",
     "text": [
      "Loại trích chọn đặc trưng:  anova_f\n"
     ]
    },
    {
     "name": "stdout",
     "output_type": "stream",
     "text": [
      "Accuracy: 0.8876944837340877\n",
      "Precision:  0.8872888757161447\n",
      "Recall:  0.8876944837340877\n"
     ]
    }
   ],
   "source": [
    "SVM(ANOVA_F_data[7500][\"X_train\"], ANOVA_F_data[7500][\"X_test\"], \"anova_f\", 7500)"
   ]
  },
  {
   "cell_type": "markdown",
   "metadata": {},
   "source": [
    "##### Không chọn lựa đặc trưng"
   ]
  },
  {
   "cell_type": "code",
   "execution_count": 37,
   "metadata": {},
   "outputs": [
    {
     "name": "stdout",
     "output_type": "stream",
     "text": [
      "Loại trích chọn đặc trưng:  None\n"
     ]
    },
    {
     "name": "stdout",
     "output_type": "stream",
     "text": [
      "Accuracy: 0.8896746817538896\n",
      "Precision:  0.8893381218720218\n",
      "Recall:  0.8896746817538896\n"
     ]
    }
   ],
   "source": [
    "SVM(X_train, X_test, \"None\")"
   ]
  },
  {
   "cell_type": "markdown",
   "metadata": {},
   "source": [
    "#### KNN"
   ]
  },
  {
   "cell_type": "markdown",
   "metadata": {},
   "source": [
    "##### Số lượng đăc trưng trích chọn = 2500"
   ]
  },
  {
   "cell_type": "code",
   "execution_count": 38,
   "metadata": {},
   "outputs": [
    {
     "name": "stdout",
     "output_type": "stream",
     "text": [
      "Loại trích chọn đặc trưng:  mutual_information\n"
     ]
    },
    {
     "name": "stdout",
     "output_type": "stream",
     "text": [
      "Accuracy score của KNN là:  0.8381895332390382\n",
      "Precision score của KNN là:  0.8495825252312593\n",
      "Recall score của KNN là:  0.8381895332390382\n"
     ]
    }
   ],
   "source": [
    "KNN(MI_data[2500][\"X_train\"], MI_data[2500][\"X_test\"], \"mutual_information\", 2500)"
   ]
  },
  {
   "cell_type": "code",
   "execution_count": 39,
   "metadata": {},
   "outputs": [
    {
     "name": "stdout",
     "output_type": "stream",
     "text": [
      "Loại trích chọn đặc trưng:  chi_square\n"
     ]
    },
    {
     "name": "stdout",
     "output_type": "stream",
     "text": [
      "Accuracy score của KNN là:  0.8364922206506364\n",
      "Precision score của KNN là:  0.8499370126350441\n",
      "Recall score của KNN là:  0.8364922206506364\n"
     ]
    }
   ],
   "source": [
    "KNN(CHI2_data[2500][\"X_train\"], CHI2_data[2500][\"X_test\"], \"chi_square\", 2500)"
   ]
  },
  {
   "cell_type": "code",
   "execution_count": 40,
   "metadata": {},
   "outputs": [
    {
     "name": "stdout",
     "output_type": "stream",
     "text": [
      "Loại trích chọn đặc trưng:  anova_f\n"
     ]
    },
    {
     "name": "stdout",
     "output_type": "stream",
     "text": [
      "Accuracy score của KNN là:  0.8376237623762376\n",
      "Precision score của KNN là:  0.850471336031225\n",
      "Recall score của KNN là:  0.8376237623762376\n"
     ]
    }
   ],
   "source": [
    "KNN(ANOVA_F_data[2500][\"X_train\"], ANOVA_F_data[2500][\"X_test\"], \"anova_f\", 2500)"
   ]
  },
  {
   "cell_type": "markdown",
   "metadata": {},
   "source": [
    "##### Số lượng đăc trưng trích chọn = 5000"
   ]
  },
  {
   "cell_type": "code",
   "execution_count": 41,
   "metadata": {},
   "outputs": [
    {
     "name": "stdout",
     "output_type": "stream",
     "text": [
      "Loại trích chọn đặc trưng:  mutual_information\n"
     ]
    },
    {
     "name": "stdout",
     "output_type": "stream",
     "text": [
      "Accuracy score của KNN là:  0.8291371994342291\n",
      "Precision score của KNN là:  0.8450206732987733\n",
      "Recall score của KNN là:  0.8291371994342291\n"
     ]
    }
   ],
   "source": [
    "KNN(MI_data[5000][\"X_train\"], MI_data[5000][\"X_test\"], \"mutual_information\")"
   ]
  },
  {
   "cell_type": "code",
   "execution_count": 42,
   "metadata": {},
   "outputs": [
    {
     "name": "stdout",
     "output_type": "stream",
     "text": [
      "Loại trích chọn đặc trưng:  chi_square\n"
     ]
    },
    {
     "name": "stdout",
     "output_type": "stream",
     "text": [
      "Accuracy score của KNN là:  0.8181046676096181\n",
      "Precision score của KNN là:  0.8360031829604251\n",
      "Recall score của KNN là:  0.8181046676096181\n"
     ]
    }
   ],
   "source": [
    "KNN(CHI2_data[5000][\"X_train\"], CHI2_data[5000][\"X_test\"], \"chi_square\")"
   ]
  },
  {
   "cell_type": "code",
   "execution_count": 43,
   "metadata": {},
   "outputs": [
    {
     "name": "stdout",
     "output_type": "stream",
     "text": [
      "Loại trích chọn đặc trưng:  anova_f\n"
     ]
    },
    {
     "name": "stdout",
     "output_type": "stream",
     "text": [
      "Accuracy score của KNN là:  0.8231966053748232\n",
      "Precision score của KNN là:  0.8398247082965202\n",
      "Recall score của KNN là:  0.8231966053748232\n"
     ]
    }
   ],
   "source": [
    "KNN(ANOVA_F_data[5000][\"X_train\"], ANOVA_F_data[5000][\"X_test\"], \"anova_f\")"
   ]
  },
  {
   "cell_type": "markdown",
   "metadata": {},
   "source": [
    "##### Số lượng đăc trưng trích chọn = 7500"
   ]
  },
  {
   "cell_type": "code",
   "execution_count": 44,
   "metadata": {},
   "outputs": [
    {
     "name": "stdout",
     "output_type": "stream",
     "text": [
      "Loại trích chọn đặc trưng:  mutual_information\n"
     ]
    },
    {
     "name": "stdout",
     "output_type": "stream",
     "text": [
      "Accuracy score của KNN là:  0.8200848656294201\n",
      "Precision score của KNN là:  0.83869967596478\n",
      "Recall score của KNN là:  0.8200848656294201\n"
     ]
    }
   ],
   "source": [
    "KNN(MI_data[7500][\"X_train\"], MI_data[7500][\"X_test\"], \"mutual_information\")"
   ]
  },
  {
   "cell_type": "code",
   "execution_count": 45,
   "metadata": {},
   "outputs": [
    {
     "name": "stdout",
     "output_type": "stream",
     "text": [
      "Loại trích chọn đặc trưng:  chi_square\n"
     ]
    },
    {
     "name": "stdout",
     "output_type": "stream",
     "text": [
      "Accuracy score của KNN là:  0.8124469589816125\n",
      "Precision score của KNN là:  0.8329644828586626\n",
      "Recall score của KNN là:  0.8124469589816125\n"
     ]
    }
   ],
   "source": [
    "KNN(CHI2_data[7500][\"X_train\"], CHI2_data[7500][\"X_test\"], \"chi_square\")"
   ]
  },
  {
   "cell_type": "code",
   "execution_count": 46,
   "metadata": {},
   "outputs": [
    {
     "name": "stdout",
     "output_type": "stream",
     "text": [
      "Loại trích chọn đặc trưng:  anova_f\n"
     ]
    },
    {
     "name": "stdout",
     "output_type": "stream",
     "text": [
      "Accuracy score của KNN là:  0.813012729844413\n",
      "Precision score của KNN là:  0.8323133434345643\n",
      "Recall score của KNN là:  0.813012729844413\n"
     ]
    }
   ],
   "source": [
    "KNN(ANOVA_F_data[7500][\"X_train\"], ANOVA_F_data[7500][\"X_test\"], \"anova_f\")"
   ]
  },
  {
   "cell_type": "markdown",
   "metadata": {},
   "source": [
    "##### Không lựa chọn đặc trưng"
   ]
  },
  {
   "cell_type": "code",
   "execution_count": 47,
   "metadata": {},
   "outputs": [
    {
     "name": "stdout",
     "output_type": "stream",
     "text": [
      "Loại trích chọn đặc trưng:  None\n"
     ]
    },
    {
     "name": "stdout",
     "output_type": "stream",
     "text": [
      "Accuracy score của KNN là:  0.8124469589816125\n",
      "Precision score của KNN là:  0.833067123078088\n",
      "Recall score của KNN là:  0.8124469589816125\n"
     ]
    }
   ],
   "source": [
    "KNN(X_train, X_test, \"None\")"
   ]
  }
 ],
 "metadata": {
  "kernelspec": {
   "display_name": "Python 3.11.3 64-bit",
   "language": "python",
   "name": "python3"
  },
  "language_info": {
   "codemirror_mode": {
    "name": "ipython",
    "version": 3
   },
   "file_extension": ".py",
   "mimetype": "text/x-python",
   "name": "python",
   "nbconvert_exporter": "python",
   "pygments_lexer": "ipython3",
   "version": "3.9.6"
  },
  "orig_nbformat": 4,
  "vscode": {
   "interpreter": {
    "hash": "ff4b1fca65a764b45acb559e482afe389d289dd599b9f8c5fd12ff5c2ea46a65"
   }
  }
 },
 "nbformat": 4,
 "nbformat_minor": 2
}
